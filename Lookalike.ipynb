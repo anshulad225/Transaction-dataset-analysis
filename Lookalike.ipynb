{
 "cells": [
  {
   "cell_type": "code",
   "execution_count": 19,
   "id": "477f467c",
   "metadata": {},
   "outputs": [],
   "source": [
    "import pandas as pd\n",
    "from sklearn.metrics.pairwise import cosine_similarity\n",
    "from sklearn.preprocessing import StandardScaler, OneHotEncoder"
   ]
  },
  {
   "cell_type": "markdown",
   "id": "37584df3",
   "metadata": {},
   "source": [
    "LOAD DATASET"
   ]
  },
  {
   "cell_type": "code",
   "execution_count": 22,
   "id": "9d949fa3",
   "metadata": {},
   "outputs": [],
   "source": [
    "customers = pd.read_csv('Customers.csv')\n",
    "products = pd.read_csv('Products.csv')\n",
    "transactions = pd.read_csv('Transactions.csv')"
   ]
  },
  {
   "cell_type": "code",
   "execution_count": 23,
   "id": "b9935474",
   "metadata": {},
   "outputs": [],
   "source": [
    "merged_data = pd.merge(transactions, customers, on='CustomerID')\n",
    "merged_data = pd.merge(merged_data, products, on='ProductID')"
   ]
  },
  {
   "cell_type": "markdown",
   "id": "b4a7db11",
   "metadata": {},
   "source": [
    "FEATURE ENGINEERING"
   ]
  },
  {
   "cell_type": "code",
   "execution_count": 13,
   "id": "80909e7c",
   "metadata": {},
   "outputs": [],
   "source": [
    "customer_features = merged_data.groupby('CustomerID').agg({\n",
    "    'TotalValue': 'sum',\n",
    "    'Quantity': 'sum',\n",
    "    'Category': lambda x: x.mode()[0],  # Most frequent category\n",
    "    'Region': 'first',  # Assume region is consistent per customer\n",
    "}).reset_index()"
   ]
  },
  {
   "cell_type": "code",
   "execution_count": 14,
   "id": "e06a9ddf",
   "metadata": {},
   "outputs": [],
   "source": [
    "encoder = OneHotEncoder()\n",
    "encoded_features = encoder.fit_transform(customer_features[['Category', 'Region']]).toarray()"
   ]
  },
  {
   "cell_type": "code",
   "execution_count": 15,
   "id": "738344b9",
   "metadata": {},
   "outputs": [],
   "source": [
    "scaler = StandardScaler()\n",
    "scaled_features = scaler.fit_transform(customer_features[['TotalValue', 'Quantity']])"
   ]
  },
  {
   "cell_type": "code",
   "execution_count": 16,
   "id": "4a9ed3dd",
   "metadata": {},
   "outputs": [],
   "source": [
    "feature_matrix = pd.concat([\n",
    "    pd.DataFrame(scaled_features, columns=['TotalValue', 'Quantity']),\n",
    "    pd.DataFrame(encoded_features)\n",
    "], axis=1)"
   ]
  },
  {
   "cell_type": "code",
   "execution_count": 17,
   "id": "d5f57a7d",
   "metadata": {},
   "outputs": [],
   "source": [
    "similarity_matrix = cosine_similarity(feature_matrix)"
   ]
  },
  {
   "cell_type": "markdown",
   "id": "a1fbd044",
   "metadata": {},
   "source": [
    "Get top 3 lookalikes for the first 20 customers"
   ]
  },
  {
   "cell_type": "code",
   "execution_count": 18,
   "id": "6bd8c3f8",
   "metadata": {},
   "outputs": [],
   "source": [
    "lookalike_map = {}\n",
    "for i in range(20):\n",
    "    customer_id = customer_features.iloc[i]['CustomerID']\n",
    "    similarity_scores = similarity_matrix[i]\n",
    "    top_3_indices = similarity_scores.argsort()[-4:-1][::-1]  # Exclude self\n",
    "    top_3 = [(customer_features.iloc[idx]['CustomerID'], similarity_scores[idx]) for idx in top_3_indices]\n",
    "    lookalike_map[customer_id] = top_3"
   ]
  },
  {
   "cell_type": "code",
   "execution_count": 24,
   "id": "49c7474b",
   "metadata": {},
   "outputs": [],
   "source": [
    "with open('Lookalike.csv', 'w') as f:\n",
    "    for cust_id, lookalikes in lookalike_map.items():\n",
    "        f.write(f\"{cust_id}, {lookalikes}\\n\")"
   ]
  },
  {
   "cell_type": "code",
   "execution_count": 25,
   "id": "2b90f18a",
   "metadata": {},
   "outputs": [
    {
     "name": "stdout",
     "output_type": "stream",
     "text": [
      "Lookalike.csv file has been created successfully!\n"
     ]
    }
   ],
   "source": [
    "print(\"Lookalike.csv file has been created successfully!\")"
   ]
  },
  {
   "cell_type": "code",
   "execution_count": null,
   "id": "299f4b54",
   "metadata": {},
   "outputs": [],
   "source": []
  },
  {
   "cell_type": "code",
   "execution_count": null,
   "id": "991600d8",
   "metadata": {},
   "outputs": [],
   "source": []
  }
 ],
 "metadata": {
  "kernelspec": {
   "display_name": "Python 3 (ipykernel)",
   "language": "python",
   "name": "python3"
  },
  "language_info": {
   "codemirror_mode": {
    "name": "ipython",
    "version": 3
   },
   "file_extension": ".py",
   "mimetype": "text/x-python",
   "name": "python",
   "nbconvert_exporter": "python",
   "pygments_lexer": "ipython3",
   "version": "3.11.5"
  }
 },
 "nbformat": 4,
 "nbformat_minor": 5
}
